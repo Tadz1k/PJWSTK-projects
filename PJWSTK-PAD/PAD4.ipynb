{
  "nbformat": 4,
  "nbformat_minor": 0,
  "metadata": {
    "colab": {
      "provenance": []
    },
    "kernelspec": {
      "name": "python3",
      "display_name": "Python 3"
    },
    "language_info": {
      "name": "python"
    }
  },
  "cells": [
    {
      "cell_type": "markdown",
      "source": [
        "Zadanie 1 (5 pkt)\n",
        "\n",
        "\n",
        "Wgraj zawartość pliku orders.csv do ramki danych.\n",
        "Przyjrzyj się danym, wykorzystując poznane metody (describe, info, head) zanalizuj dane.\n",
        "\n",
        "Następnie:\n",
        "\n",
        "\n",
        "\n",
        "1. Zamień order_date na format daty. Upewnij się, że w rezultacie data będzie w formacie: rok-miesiąc-dzień;\n",
        "2. Sprawdź ile i jakie unikalne wartości znajdują się w kolumnie T-shirt category;\n",
        "3. Wyczyść kolumnę tshirt_category normalizując nazwy produktów. Upewnij się, że dla każdej kategorii funkcjonuje jedna nazwa, np. zamiast white i wh jest tylko jedna wersja white. Skorzystaj z klasy string i metody apply;\n",
        "4. Rozdziel kolumnę tshirt category na 3 kolumny: tshirt_type, która będzie mówiła o tym czy jest to koszulka, bluza czy coś innego, tshirt_size, która będzie informowała o rozmiarze koszulki, i tshirt_colour, która będzie informowała o kolorze. Skorzystaj z metody apply.\n",
        "5. Znajdź zamówienia złożone między 31 grudnia 2014 a 2 sierpnia 2016.\n"
      ],
      "metadata": {
        "id": "6s5atoa1swg0"
      }
    },
    {
      "cell_type": "code",
      "source": [
        "import pandas as pd"
      ],
      "metadata": {
        "id": "3kPQrw2w0bJ0"
      },
      "execution_count": 127,
      "outputs": []
    },
    {
      "cell_type": "code",
      "execution_count": 128,
      "metadata": {
        "id": "Ktake9Iqsl1O"
      },
      "outputs": [],
      "source": [
        "orders=pd.read_csv(\"orders.csv\")"
      ]
    },
    {
      "cell_type": "code",
      "source": [
        "orders.describe"
      ],
      "metadata": {
        "colab": {
          "base_uri": "https://localhost:8080/"
        },
        "id": "zkvcuFUr0ns_",
        "outputId": "5efde38e-3432-43ac-c877-313ea9b145aa"
      },
      "execution_count": 129,
      "outputs": [
        {
          "output_type": "execute_result",
          "data": {
            "text/plain": [
              "<bound method NDFrame.describe of        order_date  pages_visited         order_id customer_id  \\\n",
              "0      2016/09/04              9  HTS-038040-0002      038040   \n",
              "1      2014/11/14             11  HTS-801797-0001      801797   \n",
              "2      2017/02/26             10  HTS-vft1eu-0003      vft1eu   \n",
              "3      2013/12/01             10  HTS-914324-0001      914324   \n",
              "4      2015/10/22             12  HTS-88ua9r-0001      88ua9r   \n",
              "...           ...            ...              ...         ...   \n",
              "26547  2016/11/19             13  HTS-n641x4-0001      n641x4   \n",
              "26548  2016/08/02              4  HTS-q0nm12-0001      q0nm12   \n",
              "26549  2017/03/09              6  HTS-sby0iz-0001      sby0iz   \n",
              "26550  2016/10/04             11  HTS-uz70x4-0001      uz70x4   \n",
              "26551  2016/12/16              9  HTS-xnbc22-0001      xnbc22   \n",
              "\n",
              "       tshirt_category  tshirt_price  tshirt_quantity  \n",
              "0      White T-Shirt M          20.0                1  \n",
              "1      White T-Shirt M          20.0                1  \n",
              "2      White T-Shirt F          18.0                3  \n",
              "3          Wh Tshirt F          18.0                1  \n",
              "4      White T-Shirt M          20.0                1  \n",
              "...                ...           ...              ...  \n",
              "26547  White T-Shirt M          20.0                1  \n",
              "26548  White T-Shirt M          20.0                1  \n",
              "26549  White T-Shirt M          20.0                1  \n",
              "26550           Hoodie          23.0                5  \n",
              "26551  Black T-Shirt M          19.0                3  \n",
              "\n",
              "[26552 rows x 7 columns]>"
            ]
          },
          "metadata": {},
          "execution_count": 129
        }
      ]
    },
    {
      "cell_type": "code",
      "source": [
        "orders.head"
      ],
      "metadata": {
        "colab": {
          "base_uri": "https://localhost:8080/"
        },
        "id": "7G5QDbvm0uHY",
        "outputId": "971b690b-ab38-4b70-e962-09e2cee2a479"
      },
      "execution_count": 130,
      "outputs": [
        {
          "output_type": "execute_result",
          "data": {
            "text/plain": [
              "<bound method NDFrame.head of        order_date  pages_visited         order_id customer_id  \\\n",
              "0      2016/09/04              9  HTS-038040-0002      038040   \n",
              "1      2014/11/14             11  HTS-801797-0001      801797   \n",
              "2      2017/02/26             10  HTS-vft1eu-0003      vft1eu   \n",
              "3      2013/12/01             10  HTS-914324-0001      914324   \n",
              "4      2015/10/22             12  HTS-88ua9r-0001      88ua9r   \n",
              "...           ...            ...              ...         ...   \n",
              "26547  2016/11/19             13  HTS-n641x4-0001      n641x4   \n",
              "26548  2016/08/02              4  HTS-q0nm12-0001      q0nm12   \n",
              "26549  2017/03/09              6  HTS-sby0iz-0001      sby0iz   \n",
              "26550  2016/10/04             11  HTS-uz70x4-0001      uz70x4   \n",
              "26551  2016/12/16              9  HTS-xnbc22-0001      xnbc22   \n",
              "\n",
              "       tshirt_category  tshirt_price  tshirt_quantity  \n",
              "0      White T-Shirt M          20.0                1  \n",
              "1      White T-Shirt M          20.0                1  \n",
              "2      White T-Shirt F          18.0                3  \n",
              "3          Wh Tshirt F          18.0                1  \n",
              "4      White T-Shirt M          20.0                1  \n",
              "...                ...           ...              ...  \n",
              "26547  White T-Shirt M          20.0                1  \n",
              "26548  White T-Shirt M          20.0                1  \n",
              "26549  White T-Shirt M          20.0                1  \n",
              "26550           Hoodie          23.0                5  \n",
              "26551  Black T-Shirt M          19.0                3  \n",
              "\n",
              "[26552 rows x 7 columns]>"
            ]
          },
          "metadata": {},
          "execution_count": 130
        }
      ]
    },
    {
      "cell_type": "code",
      "source": [
        "orders.info"
      ],
      "metadata": {
        "colab": {
          "base_uri": "https://localhost:8080/"
        },
        "id": "vXVQk6Es0xHZ",
        "outputId": "88dfb435-2d2e-4d27-e51c-08d6bb6a1fc1"
      },
      "execution_count": 131,
      "outputs": [
        {
          "output_type": "execute_result",
          "data": {
            "text/plain": [
              "<bound method DataFrame.info of        order_date  pages_visited         order_id customer_id  \\\n",
              "0      2016/09/04              9  HTS-038040-0002      038040   \n",
              "1      2014/11/14             11  HTS-801797-0001      801797   \n",
              "2      2017/02/26             10  HTS-vft1eu-0003      vft1eu   \n",
              "3      2013/12/01             10  HTS-914324-0001      914324   \n",
              "4      2015/10/22             12  HTS-88ua9r-0001      88ua9r   \n",
              "...           ...            ...              ...         ...   \n",
              "26547  2016/11/19             13  HTS-n641x4-0001      n641x4   \n",
              "26548  2016/08/02              4  HTS-q0nm12-0001      q0nm12   \n",
              "26549  2017/03/09              6  HTS-sby0iz-0001      sby0iz   \n",
              "26550  2016/10/04             11  HTS-uz70x4-0001      uz70x4   \n",
              "26551  2016/12/16              9  HTS-xnbc22-0001      xnbc22   \n",
              "\n",
              "       tshirt_category  tshirt_price  tshirt_quantity  \n",
              "0      White T-Shirt M          20.0                1  \n",
              "1      White T-Shirt M          20.0                1  \n",
              "2      White T-Shirt F          18.0                3  \n",
              "3          Wh Tshirt F          18.0                1  \n",
              "4      White T-Shirt M          20.0                1  \n",
              "...                ...           ...              ...  \n",
              "26547  White T-Shirt M          20.0                1  \n",
              "26548  White T-Shirt M          20.0                1  \n",
              "26549  White T-Shirt M          20.0                1  \n",
              "26550           Hoodie          23.0                5  \n",
              "26551  Black T-Shirt M          19.0                3  \n",
              "\n",
              "[26552 rows x 7 columns]>"
            ]
          },
          "metadata": {},
          "execution_count": 131
        }
      ]
    },
    {
      "cell_type": "code",
      "source": [
        "orders.shape"
      ],
      "metadata": {
        "colab": {
          "base_uri": "https://localhost:8080/"
        },
        "id": "z4x0r9YK0zmI",
        "outputId": "4b7a256f-78d0-4dd3-d0c6-7529cccfc725"
      },
      "execution_count": 132,
      "outputs": [
        {
          "output_type": "execute_result",
          "data": {
            "text/plain": [
              "(26552, 7)"
            ]
          },
          "metadata": {},
          "execution_count": 132
        }
      ]
    },
    {
      "cell_type": "code",
      "source": [
        "orders.isna().any()"
      ],
      "metadata": {
        "colab": {
          "base_uri": "https://localhost:8080/"
        },
        "id": "wHEkrp5c05s9",
        "outputId": "a5a9dbae-08e1-47b5-b299-cfc5f51503ee"
      },
      "execution_count": 133,
      "outputs": [
        {
          "output_type": "execute_result",
          "data": {
            "text/plain": [
              "order_date         False\n",
              "pages_visited      False\n",
              "order_id           False\n",
              "customer_id        False\n",
              "tshirt_category    False\n",
              "tshirt_price       False\n",
              "tshirt_quantity    False\n",
              "dtype: bool"
            ]
          },
          "metadata": {},
          "execution_count": 133
        }
      ]
    },
    {
      "cell_type": "markdown",
      "source": [
        "Zamień order_date na format daty. Upewnij się, że w rezultacie data będzie w formacie: rok-miesiąc-dzień;"
      ],
      "metadata": {
        "id": "yQ3fJsv446Aa"
      }
    },
    {
      "cell_type": "code",
      "source": [
        "orders['order_date'] = pd.to_datetime(orders['order_date'])"
      ],
      "metadata": {
        "id": "oRC-BC4e1S1r"
      },
      "execution_count": 134,
      "outputs": []
    },
    {
      "cell_type": "code",
      "source": [
        "orders['order_date']"
      ],
      "metadata": {
        "colab": {
          "base_uri": "https://localhost:8080/"
        },
        "id": "fBxrWiH11ndx",
        "outputId": "04fb489a-2133-4b6e-e87d-e0d9ac46a505"
      },
      "execution_count": 135,
      "outputs": [
        {
          "output_type": "execute_result",
          "data": {
            "text/plain": [
              "0       2016-09-04\n",
              "1       2014-11-14\n",
              "2       2017-02-26\n",
              "3       2013-12-01\n",
              "4       2015-10-22\n",
              "           ...    \n",
              "26547   2016-11-19\n",
              "26548   2016-08-02\n",
              "26549   2017-03-09\n",
              "26550   2016-10-04\n",
              "26551   2016-12-16\n",
              "Name: order_date, Length: 26552, dtype: datetime64[ns]"
            ]
          },
          "metadata": {},
          "execution_count": 135
        }
      ]
    },
    {
      "cell_type": "markdown",
      "source": [
        "Sprawdź ile i jakie unikalne wartości znajdują się w kolumnie T-shirt category;"
      ],
      "metadata": {
        "id": "tuj4_0-548r3"
      }
    },
    {
      "cell_type": "code",
      "source": [
        "orders['tshirt_category'].unique()"
      ],
      "metadata": {
        "colab": {
          "base_uri": "https://localhost:8080/"
        },
        "id": "PixcuqRM13Dr",
        "outputId": "af12e966-2035-43fb-c984-b0e551992eab"
      },
      "execution_count": 136,
      "outputs": [
        {
          "output_type": "execute_result",
          "data": {
            "text/plain": [
              "array(['White T-Shirt M', 'White T-Shirt F', 'Wh Tshirt F',\n",
              "       'Black T-Shirt F', 'Hoodie', 'Black T-Shirt M', 'Tennis Shirt',\n",
              "       'Wh Tshirt M', 'Bl Tshirt F', 'Bl Tshirt M'], dtype=object)"
            ]
          },
          "metadata": {},
          "execution_count": 136
        }
      ]
    },
    {
      "cell_type": "markdown",
      "source": [
        "Wyczyść kolumnę tshirt_category normalizując nazwy produktów. Upewnij się, że dla każdej kategorii funkcjonuje jedna nazwa, np. zamiast white i wh jest tylko jedna wersja white. Skorzystaj z klasy string i metody apply;"
      ],
      "metadata": {
        "id": "vA5hyxIF4_EL"
      }
    },
    {
      "cell_type": "code",
      "source": [
        "orders['tshirt_category'] = orders['tshirt_category'].apply(lambda x: x.replace(\"White\", \"Wh\"))\n",
        "orders['tshirt_category'] = orders['tshirt_category'].apply(lambda x: x.replace(\"Tshirt\", \"T-Shirt\"))\n",
        "orders['tshirt_category'] = orders['tshirt_category'].apply(lambda x: x.replace(\"T-shirt\", \"T-Shirt\"))\n",
        "orders['tshirt_category'] = orders['tshirt_category'].apply(lambda x: x.replace(\"Black\", \"Bl\"))\n",
        "orders['tshirt_category'] = orders['tshirt_category'].apply(lambda x: x.replace(\"Tennis Shirt\", \"Tennis_Shirt\"))"
      ],
      "metadata": {
        "id": "FiKdZNZ62QUb"
      },
      "execution_count": 137,
      "outputs": []
    },
    {
      "cell_type": "code",
      "source": [
        "orders['tshirt_category'].unique()"
      ],
      "metadata": {
        "colab": {
          "base_uri": "https://localhost:8080/"
        },
        "id": "0TX9EKJY3fSw",
        "outputId": "2bbd9f9e-dca3-40c8-dedb-d81c7c610712"
      },
      "execution_count": 138,
      "outputs": [
        {
          "output_type": "execute_result",
          "data": {
            "text/plain": [
              "array(['Wh T-Shirt M', 'Wh T-Shirt F', 'Bl T-Shirt F', 'Hoodie',\n",
              "       'Bl T-Shirt M', 'Tennis_Shirt'], dtype=object)"
            ]
          },
          "metadata": {},
          "execution_count": 138
        }
      ]
    },
    {
      "cell_type": "markdown",
      "source": [
        "Rozdziel kolumnę tshirt category na 3 kolumny: tshirt_type, która będzie mówiła o tym czy jest to koszulka, bluza czy coś innego, tshirt_size, która będzie informowała o rozmiarze koszulki, i tshirt_colour, która będzie informowała o kolorze. Skorzystaj z metody apply."
      ],
      "metadata": {
        "id": "N_wT-o8C5BX2"
      }
    },
    {
      "cell_type": "code",
      "source": [
        "orders.isna().any()"
      ],
      "metadata": {
        "colab": {
          "base_uri": "https://localhost:8080/"
        },
        "id": "dR_rh9X5BfI_",
        "outputId": "6e4998dc-50e9-49b7-a9e7-1b3a9456bd04"
      },
      "execution_count": 139,
      "outputs": [
        {
          "output_type": "execute_result",
          "data": {
            "text/plain": [
              "order_date         False\n",
              "pages_visited      False\n",
              "order_id           False\n",
              "customer_id        False\n",
              "tshirt_category    False\n",
              "tshirt_price       False\n",
              "tshirt_quantity    False\n",
              "dtype: bool"
            ]
          },
          "metadata": {},
          "execution_count": 139
        }
      ]
    },
    {
      "cell_type": "code",
      "source": [
        "orders['tshirt_category'].unique()"
      ],
      "metadata": {
        "colab": {
          "base_uri": "https://localhost:8080/"
        },
        "id": "PBD_x5BNBinW",
        "outputId": "484fd8a0-091f-45ae-d77e-a8611c5be161"
      },
      "execution_count": 140,
      "outputs": [
        {
          "output_type": "execute_result",
          "data": {
            "text/plain": [
              "array(['Wh T-Shirt M', 'Wh T-Shirt F', 'Bl T-Shirt F', 'Hoodie',\n",
              "       'Bl T-Shirt M', 'Tennis_Shirt'], dtype=object)"
            ]
          },
          "metadata": {},
          "execution_count": 140
        }
      ]
    },
    {
      "cell_type": "code",
      "source": [
        "orders['tshirt_category'] = orders['tshirt_category'].apply(lambda x: x if (x in ['Hoodie', 'Tennis_Shirt']) else f'{x.split(\" \")[1]} {x.split(\" \")[0]} {x.split(\" \")[2]}')"
      ],
      "metadata": {
        "id": "hrkq7o4P-E6L"
      },
      "execution_count": 141,
      "outputs": []
    },
    {
      "cell_type": "code",
      "source": [
        "orders[['tshirt_type', 'tshirt_colour', 'tshirt_size']] = orders['tshirt_category'].str.split(expand=True)"
      ],
      "metadata": {
        "id": "8TUI6CRJ5CB6"
      },
      "execution_count": 142,
      "outputs": []
    },
    {
      "cell_type": "code",
      "source": [
        "orders.head"
      ],
      "metadata": {
        "colab": {
          "base_uri": "https://localhost:8080/"
        },
        "id": "2ImkM0a66mmk",
        "outputId": "ce7374b5-01d4-46ab-f60b-d1b5fe6d8f78"
      },
      "execution_count": 143,
      "outputs": [
        {
          "output_type": "execute_result",
          "data": {
            "text/plain": [
              "<bound method NDFrame.head of       order_date  pages_visited         order_id customer_id tshirt_category  \\\n",
              "0     2016-09-04              9  HTS-038040-0002      038040    T-Shirt Wh M   \n",
              "1     2014-11-14             11  HTS-801797-0001      801797    T-Shirt Wh M   \n",
              "2     2017-02-26             10  HTS-vft1eu-0003      vft1eu    T-Shirt Wh F   \n",
              "3     2013-12-01             10  HTS-914324-0001      914324    T-Shirt Wh F   \n",
              "4     2015-10-22             12  HTS-88ua9r-0001      88ua9r    T-Shirt Wh M   \n",
              "...          ...            ...              ...         ...             ...   \n",
              "26547 2016-11-19             13  HTS-n641x4-0001      n641x4    T-Shirt Wh M   \n",
              "26548 2016-08-02              4  HTS-q0nm12-0001      q0nm12    T-Shirt Wh M   \n",
              "26549 2017-03-09              6  HTS-sby0iz-0001      sby0iz    T-Shirt Wh M   \n",
              "26550 2016-10-04             11  HTS-uz70x4-0001      uz70x4          Hoodie   \n",
              "26551 2016-12-16              9  HTS-xnbc22-0001      xnbc22    T-Shirt Bl M   \n",
              "\n",
              "       tshirt_price  tshirt_quantity tshirt_type tshirt_colour tshirt_size  \n",
              "0              20.0                1     T-Shirt            Wh           M  \n",
              "1              20.0                1     T-Shirt            Wh           M  \n",
              "2              18.0                3     T-Shirt            Wh           F  \n",
              "3              18.0                1     T-Shirt            Wh           F  \n",
              "4              20.0                1     T-Shirt            Wh           M  \n",
              "...             ...              ...         ...           ...         ...  \n",
              "26547          20.0                1     T-Shirt            Wh           M  \n",
              "26548          20.0                1     T-Shirt            Wh           M  \n",
              "26549          20.0                1     T-Shirt            Wh           M  \n",
              "26550          23.0                5      Hoodie          None        None  \n",
              "26551          19.0                3     T-Shirt            Bl           M  \n",
              "\n",
              "[26552 rows x 10 columns]>"
            ]
          },
          "metadata": {},
          "execution_count": 143
        }
      ]
    },
    {
      "cell_type": "markdown",
      "source": [
        "Znajdź zamówienia złożone między 31 grudnia 2014 a 2 sierpnia 2016."
      ],
      "metadata": {
        "id": "cR6Omg7yGEg4"
      }
    },
    {
      "cell_type": "code",
      "source": [
        "orders[(orders['order_date'] > '2014-12-31') & (orders['order_date'] < '2016-02-08')]"
      ],
      "metadata": {
        "colab": {
          "base_uri": "https://localhost:8080/",
          "height": 424
        },
        "id": "E1ZidlOtGDk6",
        "outputId": "121b22af-df23-40e8-a142-c5dfb082fc24"
      },
      "execution_count": 144,
      "outputs": [
        {
          "output_type": "execute_result",
          "data": {
            "text/plain": [
              "      order_date  pages_visited         order_id customer_id tshirt_category  \\\n",
              "4     2015-10-22             12  HTS-88ua9r-0001      88ua9r    T-Shirt Wh M   \n",
              "5     2016-01-15              9  HTS-061311-0003      061311    T-Shirt Bl F   \n",
              "12    2015-11-24             15  HTS-je57lh-0001      je57lh          Hoodie   \n",
              "13    2015-10-10              8  HTS-252675-0002      252675    T-Shirt Wh M   \n",
              "15    2015-11-29             15  HTS-heb26i-0001      heb26i    T-Shirt Bl F   \n",
              "...          ...            ...              ...         ...             ...   \n",
              "26405 2015-11-24             16  HTS-021969-0001      021969    T-Shirt Bl F   \n",
              "26407 2015-07-31              9  HTS-730057-0004      730057    T-Shirt Bl F   \n",
              "26409 2015-08-28             11  HTS-962212-0003      962212    T-Shirt Wh M   \n",
              "26423 2015-01-22             11  HTS-961075-0001      961075    T-Shirt Bl M   \n",
              "26432 2015-10-17              7  HTS-059163-0003      059163    Tennis_Shirt   \n",
              "\n",
              "       tshirt_price  tshirt_quantity   tshirt_type tshirt_colour tshirt_size  \n",
              "4              20.0                1       T-Shirt            Wh           M  \n",
              "5              17.5                4       T-Shirt            Bl           F  \n",
              "12             23.0                3        Hoodie          None        None  \n",
              "13             20.0                3       T-Shirt            Wh           M  \n",
              "15             17.5                1       T-Shirt            Bl           F  \n",
              "...             ...              ...           ...           ...         ...  \n",
              "26405          17.5                1       T-Shirt            Bl           F  \n",
              "26407          17.5                4       T-Shirt            Bl           F  \n",
              "26409          20.0                2       T-Shirt            Wh           M  \n",
              "26423          19.0                3       T-Shirt            Bl           M  \n",
              "26432          24.0                1  Tennis_Shirt          None        None  \n",
              "\n",
              "[8544 rows x 10 columns]"
            ],
            "text/html": [
              "\n",
              "  <div id=\"df-dd9e22e1-39be-4a5c-a49d-e76006f9dcbf\">\n",
              "    <div class=\"colab-df-container\">\n",
              "      <div>\n",
              "<style scoped>\n",
              "    .dataframe tbody tr th:only-of-type {\n",
              "        vertical-align: middle;\n",
              "    }\n",
              "\n",
              "    .dataframe tbody tr th {\n",
              "        vertical-align: top;\n",
              "    }\n",
              "\n",
              "    .dataframe thead th {\n",
              "        text-align: right;\n",
              "    }\n",
              "</style>\n",
              "<table border=\"1\" class=\"dataframe\">\n",
              "  <thead>\n",
              "    <tr style=\"text-align: right;\">\n",
              "      <th></th>\n",
              "      <th>order_date</th>\n",
              "      <th>pages_visited</th>\n",
              "      <th>order_id</th>\n",
              "      <th>customer_id</th>\n",
              "      <th>tshirt_category</th>\n",
              "      <th>tshirt_price</th>\n",
              "      <th>tshirt_quantity</th>\n",
              "      <th>tshirt_type</th>\n",
              "      <th>tshirt_colour</th>\n",
              "      <th>tshirt_size</th>\n",
              "    </tr>\n",
              "  </thead>\n",
              "  <tbody>\n",
              "    <tr>\n",
              "      <th>4</th>\n",
              "      <td>2015-10-22</td>\n",
              "      <td>12</td>\n",
              "      <td>HTS-88ua9r-0001</td>\n",
              "      <td>88ua9r</td>\n",
              "      <td>T-Shirt Wh M</td>\n",
              "      <td>20.0</td>\n",
              "      <td>1</td>\n",
              "      <td>T-Shirt</td>\n",
              "      <td>Wh</td>\n",
              "      <td>M</td>\n",
              "    </tr>\n",
              "    <tr>\n",
              "      <th>5</th>\n",
              "      <td>2016-01-15</td>\n",
              "      <td>9</td>\n",
              "      <td>HTS-061311-0003</td>\n",
              "      <td>061311</td>\n",
              "      <td>T-Shirt Bl F</td>\n",
              "      <td>17.5</td>\n",
              "      <td>4</td>\n",
              "      <td>T-Shirt</td>\n",
              "      <td>Bl</td>\n",
              "      <td>F</td>\n",
              "    </tr>\n",
              "    <tr>\n",
              "      <th>12</th>\n",
              "      <td>2015-11-24</td>\n",
              "      <td>15</td>\n",
              "      <td>HTS-je57lh-0001</td>\n",
              "      <td>je57lh</td>\n",
              "      <td>Hoodie</td>\n",
              "      <td>23.0</td>\n",
              "      <td>3</td>\n",
              "      <td>Hoodie</td>\n",
              "      <td>None</td>\n",
              "      <td>None</td>\n",
              "    </tr>\n",
              "    <tr>\n",
              "      <th>13</th>\n",
              "      <td>2015-10-10</td>\n",
              "      <td>8</td>\n",
              "      <td>HTS-252675-0002</td>\n",
              "      <td>252675</td>\n",
              "      <td>T-Shirt Wh M</td>\n",
              "      <td>20.0</td>\n",
              "      <td>3</td>\n",
              "      <td>T-Shirt</td>\n",
              "      <td>Wh</td>\n",
              "      <td>M</td>\n",
              "    </tr>\n",
              "    <tr>\n",
              "      <th>15</th>\n",
              "      <td>2015-11-29</td>\n",
              "      <td>15</td>\n",
              "      <td>HTS-heb26i-0001</td>\n",
              "      <td>heb26i</td>\n",
              "      <td>T-Shirt Bl F</td>\n",
              "      <td>17.5</td>\n",
              "      <td>1</td>\n",
              "      <td>T-Shirt</td>\n",
              "      <td>Bl</td>\n",
              "      <td>F</td>\n",
              "    </tr>\n",
              "    <tr>\n",
              "      <th>...</th>\n",
              "      <td>...</td>\n",
              "      <td>...</td>\n",
              "      <td>...</td>\n",
              "      <td>...</td>\n",
              "      <td>...</td>\n",
              "      <td>...</td>\n",
              "      <td>...</td>\n",
              "      <td>...</td>\n",
              "      <td>...</td>\n",
              "      <td>...</td>\n",
              "    </tr>\n",
              "    <tr>\n",
              "      <th>26405</th>\n",
              "      <td>2015-11-24</td>\n",
              "      <td>16</td>\n",
              "      <td>HTS-021969-0001</td>\n",
              "      <td>021969</td>\n",
              "      <td>T-Shirt Bl F</td>\n",
              "      <td>17.5</td>\n",
              "      <td>1</td>\n",
              "      <td>T-Shirt</td>\n",
              "      <td>Bl</td>\n",
              "      <td>F</td>\n",
              "    </tr>\n",
              "    <tr>\n",
              "      <th>26407</th>\n",
              "      <td>2015-07-31</td>\n",
              "      <td>9</td>\n",
              "      <td>HTS-730057-0004</td>\n",
              "      <td>730057</td>\n",
              "      <td>T-Shirt Bl F</td>\n",
              "      <td>17.5</td>\n",
              "      <td>4</td>\n",
              "      <td>T-Shirt</td>\n",
              "      <td>Bl</td>\n",
              "      <td>F</td>\n",
              "    </tr>\n",
              "    <tr>\n",
              "      <th>26409</th>\n",
              "      <td>2015-08-28</td>\n",
              "      <td>11</td>\n",
              "      <td>HTS-962212-0003</td>\n",
              "      <td>962212</td>\n",
              "      <td>T-Shirt Wh M</td>\n",
              "      <td>20.0</td>\n",
              "      <td>2</td>\n",
              "      <td>T-Shirt</td>\n",
              "      <td>Wh</td>\n",
              "      <td>M</td>\n",
              "    </tr>\n",
              "    <tr>\n",
              "      <th>26423</th>\n",
              "      <td>2015-01-22</td>\n",
              "      <td>11</td>\n",
              "      <td>HTS-961075-0001</td>\n",
              "      <td>961075</td>\n",
              "      <td>T-Shirt Bl M</td>\n",
              "      <td>19.0</td>\n",
              "      <td>3</td>\n",
              "      <td>T-Shirt</td>\n",
              "      <td>Bl</td>\n",
              "      <td>M</td>\n",
              "    </tr>\n",
              "    <tr>\n",
              "      <th>26432</th>\n",
              "      <td>2015-10-17</td>\n",
              "      <td>7</td>\n",
              "      <td>HTS-059163-0003</td>\n",
              "      <td>059163</td>\n",
              "      <td>Tennis_Shirt</td>\n",
              "      <td>24.0</td>\n",
              "      <td>1</td>\n",
              "      <td>Tennis_Shirt</td>\n",
              "      <td>None</td>\n",
              "      <td>None</td>\n",
              "    </tr>\n",
              "  </tbody>\n",
              "</table>\n",
              "<p>8544 rows × 10 columns</p>\n",
              "</div>\n",
              "      <button class=\"colab-df-convert\" onclick=\"convertToInteractive('df-dd9e22e1-39be-4a5c-a49d-e76006f9dcbf')\"\n",
              "              title=\"Convert this dataframe to an interactive table.\"\n",
              "              style=\"display:none;\">\n",
              "        \n",
              "  <svg xmlns=\"http://www.w3.org/2000/svg\" height=\"24px\"viewBox=\"0 0 24 24\"\n",
              "       width=\"24px\">\n",
              "    <path d=\"M0 0h24v24H0V0z\" fill=\"none\"/>\n",
              "    <path d=\"M18.56 5.44l.94 2.06.94-2.06 2.06-.94-2.06-.94-.94-2.06-.94 2.06-2.06.94zm-11 1L8.5 8.5l.94-2.06 2.06-.94-2.06-.94L8.5 2.5l-.94 2.06-2.06.94zm10 10l.94 2.06.94-2.06 2.06-.94-2.06-.94-.94-2.06-.94 2.06-2.06.94z\"/><path d=\"M17.41 7.96l-1.37-1.37c-.4-.4-.92-.59-1.43-.59-.52 0-1.04.2-1.43.59L10.3 9.45l-7.72 7.72c-.78.78-.78 2.05 0 2.83L4 21.41c.39.39.9.59 1.41.59.51 0 1.02-.2 1.41-.59l7.78-7.78 2.81-2.81c.8-.78.8-2.07 0-2.86zM5.41 20L4 18.59l7.72-7.72 1.47 1.35L5.41 20z\"/>\n",
              "  </svg>\n",
              "      </button>\n",
              "      \n",
              "  <style>\n",
              "    .colab-df-container {\n",
              "      display:flex;\n",
              "      flex-wrap:wrap;\n",
              "      gap: 12px;\n",
              "    }\n",
              "\n",
              "    .colab-df-convert {\n",
              "      background-color: #E8F0FE;\n",
              "      border: none;\n",
              "      border-radius: 50%;\n",
              "      cursor: pointer;\n",
              "      display: none;\n",
              "      fill: #1967D2;\n",
              "      height: 32px;\n",
              "      padding: 0 0 0 0;\n",
              "      width: 32px;\n",
              "    }\n",
              "\n",
              "    .colab-df-convert:hover {\n",
              "      background-color: #E2EBFA;\n",
              "      box-shadow: 0px 1px 2px rgba(60, 64, 67, 0.3), 0px 1px 3px 1px rgba(60, 64, 67, 0.15);\n",
              "      fill: #174EA6;\n",
              "    }\n",
              "\n",
              "    [theme=dark] .colab-df-convert {\n",
              "      background-color: #3B4455;\n",
              "      fill: #D2E3FC;\n",
              "    }\n",
              "\n",
              "    [theme=dark] .colab-df-convert:hover {\n",
              "      background-color: #434B5C;\n",
              "      box-shadow: 0px 1px 3px 1px rgba(0, 0, 0, 0.15);\n",
              "      filter: drop-shadow(0px 1px 2px rgba(0, 0, 0, 0.3));\n",
              "      fill: #FFFFFF;\n",
              "    }\n",
              "  </style>\n",
              "\n",
              "      <script>\n",
              "        const buttonEl =\n",
              "          document.querySelector('#df-dd9e22e1-39be-4a5c-a49d-e76006f9dcbf button.colab-df-convert');\n",
              "        buttonEl.style.display =\n",
              "          google.colab.kernel.accessAllowed ? 'block' : 'none';\n",
              "\n",
              "        async function convertToInteractive(key) {\n",
              "          const element = document.querySelector('#df-dd9e22e1-39be-4a5c-a49d-e76006f9dcbf');\n",
              "          const dataTable =\n",
              "            await google.colab.kernel.invokeFunction('convertToInteractive',\n",
              "                                                     [key], {});\n",
              "          if (!dataTable) return;\n",
              "\n",
              "          const docLinkHtml = 'Like what you see? Visit the ' +\n",
              "            '<a target=\"_blank\" href=https://colab.research.google.com/notebooks/data_table.ipynb>data table notebook</a>'\n",
              "            + ' to learn more about interactive tables.';\n",
              "          element.innerHTML = '';\n",
              "          dataTable['output_type'] = 'display_data';\n",
              "          await google.colab.output.renderOutput(dataTable, element);\n",
              "          const docLink = document.createElement('div');\n",
              "          docLink.innerHTML = docLinkHtml;\n",
              "          element.appendChild(docLink);\n",
              "        }\n",
              "      </script>\n",
              "    </div>\n",
              "  </div>\n",
              "  "
            ]
          },
          "metadata": {},
          "execution_count": 144
        }
      ]
    },
    {
      "cell_type": "markdown",
      "source": [
        "Zadanie 2 (4 pkt)\n",
        "\n",
        "\n",
        "Wgraj plik customers.csv do ramki danych. \n",
        "\n",
        "Następnie:\n",
        "1. Wypisz kolumny;\n",
        "2. Porównaj rozmiar ramki z rozmiarem ramki w zadaniu 1;\n",
        "3. Zmień nazwę kolumny customerID  na customer_id upewniając się, że dane zmiana zostanie zapisana w pamięci dzięki jednemu z argumentów metody do zmiany nazwy kolumny;\n",
        "4. Połącz ramkę orders z ramką customers po kolumnie customer_id. Z której metody skorzystasz? Zostaw odpowiedź w komentarzu do zadania w kodzie (np. blok komentarzem ‘’’ ‘’’).\n"
      ],
      "metadata": {
        "id": "g0QB8rtHtGhT"
      }
    },
    {
      "cell_type": "code",
      "source": [
        "customers=pd.read_csv(\"customers.csv\")"
      ],
      "metadata": {
        "id": "_rfPFhLGtRm-"
      },
      "execution_count": 145,
      "outputs": []
    },
    {
      "cell_type": "markdown",
      "source": [
        "Wypisz kolumny;"
      ],
      "metadata": {
        "id": "jB_T2VskGyVb"
      }
    },
    {
      "cell_type": "code",
      "source": [
        "column_names = list(customers)\n",
        "column_names"
      ],
      "metadata": {
        "colab": {
          "base_uri": "https://localhost:8080/"
        },
        "id": "XlRlq0oAGxEu",
        "outputId": "37e76f95-6903-48b3-e2ab-5cee9a6e5728"
      },
      "execution_count": 146,
      "outputs": [
        {
          "output_type": "execute_result",
          "data": {
            "text/plain": [
              "['customerID', 'gender', 'birthdate', 'user_agent', 'ip_address', 'campaign']"
            ]
          },
          "metadata": {},
          "execution_count": 146
        }
      ]
    },
    {
      "cell_type": "markdown",
      "source": [
        "Porównaj rozmiar ramki z rozmiarem ramki w zadaniu 1;"
      ],
      "metadata": {
        "id": "kpJhLfy_HFkt"
      }
    },
    {
      "cell_type": "code",
      "source": [
        "orders.shape"
      ],
      "metadata": {
        "colab": {
          "base_uri": "https://localhost:8080/"
        },
        "id": "AVLY4LqdGxDI",
        "outputId": "498dc11c-56a2-4e4f-8cab-ded3a60f4d3f"
      },
      "execution_count": 147,
      "outputs": [
        {
          "output_type": "execute_result",
          "data": {
            "text/plain": [
              "(26552, 10)"
            ]
          },
          "metadata": {},
          "execution_count": 147
        }
      ]
    },
    {
      "cell_type": "code",
      "source": [
        "customers.shape"
      ],
      "metadata": {
        "colab": {
          "base_uri": "https://localhost:8080/"
        },
        "id": "E0KzqOhOHKKg",
        "outputId": "a198a91e-b53b-405e-ffa0-513680804852"
      },
      "execution_count": 148,
      "outputs": [
        {
          "output_type": "execute_result",
          "data": {
            "text/plain": [
              "(18766, 6)"
            ]
          },
          "metadata": {},
          "execution_count": 148
        }
      ]
    },
    {
      "cell_type": "markdown",
      "source": [
        "Zmień nazwę kolumny customerID na customer_id upewniając się, że dane zmiana zostanie zapisana w pamięci dzięki jednemu z argumentów metody do zmiany nazwy kolumny;"
      ],
      "metadata": {
        "id": "0qnYLCEpHZSk"
      }
    },
    {
      "cell_type": "code",
      "source": [
        "customers.head"
      ],
      "metadata": {
        "colab": {
          "base_uri": "https://localhost:8080/"
        },
        "id": "0LM30YdxHY5z",
        "outputId": "180a58d1-4e50-4413-9353-86c184997748"
      },
      "execution_count": 149,
      "outputs": [
        {
          "output_type": "execute_result",
          "data": {
            "text/plain": [
              "<bound method NDFrame.head of       customerID gender   birthdate  \\\n",
              "0         886900      M   1953/10/5   \n",
              "1         038040      F  1946/12/21   \n",
              "2         698696      F   1983/12/1   \n",
              "3         sn9keh      M   1990/9/23   \n",
              "4         496907      M    1869/6/8   \n",
              "...          ...    ...         ...   \n",
              "18761     m1yyx6      M   1999/8/19   \n",
              "18762     744375      F  1941/10/22   \n",
              "18763     t6pxeo      F   1950/5/10   \n",
              "18764     930049      F  1979/10/22   \n",
              "18765     950728      M   1997/9/18   \n",
              "\n",
              "                                              user_agent       ip_address  \\\n",
              "0      Mozilla/5.0 (Windows NT 10.0; Win64; x64) Appl...     69.8.136.110   \n",
              "1      Mozilla/5.0 (Windows NT 10.0; WOW64) AppleWebK...    67.74.254.174   \n",
              "2      Mozilla/5.0 (Windows NT 6.3; WOW64) AppleWebKi...    95.135.70.206   \n",
              "3      Mozilla/5.0 (Macintosh; Intel Mac OS X 10_11_6...    129.50.205.26   \n",
              "4      Mozilla/5.0 (Windows NT 6.1; Win64; x64) Apple...     81.98.234.29   \n",
              "...                                                  ...              ...   \n",
              "18761  Mozilla/5.0 (Windows NT 6.1; WOW64) AppleWebKi...     95.142.4.155   \n",
              "18762  Mozilla/5.0 (Windows NT 6.1; Win64; x64) Apple...  119.219.176.225   \n",
              "18763  Mozilla/5.0 (X11; Linux x86_64) AppleWebKit/53...   196.178.254.85   \n",
              "18764  Mozilla/5.0 (Macintosh; Intel Mac OS X 10_12_3...   118.173.208.45   \n",
              "18765  Mozilla/5.0 (Macintosh; Intel Mac OS X 10_12_3...   171.178.68.155   \n",
              "\n",
              "       campaign  \n",
              "0         False  \n",
              "1         False  \n",
              "2         False  \n",
              "3         False  \n",
              "4         False  \n",
              "...         ...  \n",
              "18761      True  \n",
              "18762     False  \n",
              "18763     False  \n",
              "18764     False  \n",
              "18765     False  \n",
              "\n",
              "[18766 rows x 6 columns]>"
            ]
          },
          "metadata": {},
          "execution_count": 149
        }
      ]
    },
    {
      "cell_type": "code",
      "source": [
        "customers.rename(columns = {'customerID':'customer_id'}, inplace = True)"
      ],
      "metadata": {
        "id": "-Z-Dx1JVHsbc"
      },
      "execution_count": 150,
      "outputs": []
    },
    {
      "cell_type": "code",
      "source": [
        "customers.head"
      ],
      "metadata": {
        "colab": {
          "base_uri": "https://localhost:8080/"
        },
        "id": "t1cinV3bHylr",
        "outputId": "1b22b839-16b5-401a-9bdc-a971154f240c"
      },
      "execution_count": 151,
      "outputs": [
        {
          "output_type": "execute_result",
          "data": {
            "text/plain": [
              "<bound method NDFrame.head of       customer_id gender   birthdate  \\\n",
              "0          886900      M   1953/10/5   \n",
              "1          038040      F  1946/12/21   \n",
              "2          698696      F   1983/12/1   \n",
              "3          sn9keh      M   1990/9/23   \n",
              "4          496907      M    1869/6/8   \n",
              "...           ...    ...         ...   \n",
              "18761      m1yyx6      M   1999/8/19   \n",
              "18762      744375      F  1941/10/22   \n",
              "18763      t6pxeo      F   1950/5/10   \n",
              "18764      930049      F  1979/10/22   \n",
              "18765      950728      M   1997/9/18   \n",
              "\n",
              "                                              user_agent       ip_address  \\\n",
              "0      Mozilla/5.0 (Windows NT 10.0; Win64; x64) Appl...     69.8.136.110   \n",
              "1      Mozilla/5.0 (Windows NT 10.0; WOW64) AppleWebK...    67.74.254.174   \n",
              "2      Mozilla/5.0 (Windows NT 6.3; WOW64) AppleWebKi...    95.135.70.206   \n",
              "3      Mozilla/5.0 (Macintosh; Intel Mac OS X 10_11_6...    129.50.205.26   \n",
              "4      Mozilla/5.0 (Windows NT 6.1; Win64; x64) Apple...     81.98.234.29   \n",
              "...                                                  ...              ...   \n",
              "18761  Mozilla/5.0 (Windows NT 6.1; WOW64) AppleWebKi...     95.142.4.155   \n",
              "18762  Mozilla/5.0 (Windows NT 6.1; Win64; x64) Apple...  119.219.176.225   \n",
              "18763  Mozilla/5.0 (X11; Linux x86_64) AppleWebKit/53...   196.178.254.85   \n",
              "18764  Mozilla/5.0 (Macintosh; Intel Mac OS X 10_12_3...   118.173.208.45   \n",
              "18765  Mozilla/5.0 (Macintosh; Intel Mac OS X 10_12_3...   171.178.68.155   \n",
              "\n",
              "       campaign  \n",
              "0         False  \n",
              "1         False  \n",
              "2         False  \n",
              "3         False  \n",
              "4         False  \n",
              "...         ...  \n",
              "18761      True  \n",
              "18762     False  \n",
              "18763     False  \n",
              "18764     False  \n",
              "18765     False  \n",
              "\n",
              "[18766 rows x 6 columns]>"
            ]
          },
          "metadata": {},
          "execution_count": 151
        }
      ]
    },
    {
      "cell_type": "markdown",
      "source": [
        "Połącz ramkę orders z ramką customers po kolumnie customer_id. Z której metody skorzystasz? Zostaw odpowiedź w komentarzu do zadania w kodzie (np. blok komentarzem ‘’’ ‘’’)."
      ],
      "metadata": {
        "id": "QunO3q5YH3jh"
      }
    },
    {
      "cell_type": "code",
      "source": [
        "'''\n",
        "Wykorzystałem funkcję merge z parametrem on=\"customer_id\". Parametr ten jest wskaźnikiem, po którym obie ramki mają się dopasować.\n",
        "'''\n",
        "merged = pd.merge(orders, customers, on=\"customer_id\")"
      ],
      "metadata": {
        "id": "v1ZznauXH3_P"
      },
      "execution_count": 152,
      "outputs": []
    },
    {
      "cell_type": "code",
      "source": [
        "merged"
      ],
      "metadata": {
        "colab": {
          "base_uri": "https://localhost:8080/",
          "height": 1000
        },
        "id": "xjPJvYByIcCY",
        "outputId": "59e961ac-0aee-4d64-9392-bb1ce8c0067c"
      },
      "execution_count": 153,
      "outputs": [
        {
          "output_type": "execute_result",
          "data": {
            "text/plain": [
              "      order_date  pages_visited         order_id customer_id tshirt_category  \\\n",
              "0     2016-09-04              9  HTS-038040-0002      038040    T-Shirt Wh M   \n",
              "1     2014-06-04             13  HTS-038040-0001      038040    T-Shirt Wh F   \n",
              "2     2014-11-14             11  HTS-801797-0001      801797    T-Shirt Wh M   \n",
              "3     2015-10-22             12  HTS-801797-0002      801797    T-Shirt Wh M   \n",
              "4     2017-02-26             10  HTS-vft1eu-0003      vft1eu    T-Shirt Wh F   \n",
              "...          ...            ...              ...         ...             ...   \n",
              "25877 2016-11-02             11  HTS-762534-0001      762534          Hoodie   \n",
              "25878 2016-11-16              4  HTS-hrpv38-0001      hrpv38    T-Shirt Wh M   \n",
              "25879 2014-07-12             16  HTS-978569-0001      978569          Hoodie   \n",
              "25880 2016-08-05             11  HTS-k0batl-0001      k0batl    T-Shirt Wh M   \n",
              "25881 2017-03-13             11  HTS-200121-0001      200121    Tennis_Shirt   \n",
              "\n",
              "       tshirt_price  tshirt_quantity   tshirt_type tshirt_colour tshirt_size  \\\n",
              "0              20.0                1       T-Shirt            Wh           M   \n",
              "1              18.0                1       T-Shirt            Wh           F   \n",
              "2              20.0                1       T-Shirt            Wh           M   \n",
              "3              20.0                2       T-Shirt            Wh           M   \n",
              "4              18.0                3       T-Shirt            Wh           F   \n",
              "...             ...              ...           ...           ...         ...   \n",
              "25877          23.0                1        Hoodie          None        None   \n",
              "25878          20.0                3       T-Shirt            Wh           M   \n",
              "25879          23.0                1        Hoodie          None        None   \n",
              "25880          20.0                2       T-Shirt            Wh           M   \n",
              "25881          24.0                1  Tennis_Shirt          None        None   \n",
              "\n",
              "      gender   birthdate                                         user_agent  \\\n",
              "0          F  1946/12/21  Mozilla/5.0 (Windows NT 10.0; WOW64) AppleWebK...   \n",
              "1          F  1946/12/21  Mozilla/5.0 (Windows NT 10.0; WOW64) AppleWebK...   \n",
              "2          M   1956/7/19  Mozilla/5.0 (Windows NT 10.0; Win64; x64) Appl...   \n",
              "3          M   1956/7/19  Mozilla/5.0 (Windows NT 10.0; Win64; x64) Appl...   \n",
              "4          F   1969/6/27  Mozilla/5.0 (Macintosh; Intel Mac OS X 10_12_3...   \n",
              "...      ...         ...                                                ...   \n",
              "25877      M   1963/8/24  Mozilla/5.0 (Windows NT 10.0; WOW64) AppleWebK...   \n",
              "25878      F   1951/8/15  Mozilla/5.0 (Windows NT 6.1; WOW64) AppleWebKi...   \n",
              "25879      M  1986/11/19  Mozilla/5.0 (Windows NT 10.0; WOW64) AppleWebK...   \n",
              "25880      M    1959/2/6  Mozilla/5.0 (Macintosh; Intel Mac OS X 10_12_3...   \n",
              "25881      F   1969/8/22  Mozilla/5.0 (Macintosh; Intel Mac OS X 10_12_3...   \n",
              "\n",
              "            ip_address  campaign  \n",
              "0        67.74.254.174     False  \n",
              "1        67.74.254.174     False  \n",
              "2      137.155.219.158     False  \n",
              "3      137.155.219.158     False  \n",
              "4         53.115.6.106      True  \n",
              "...                ...       ...  \n",
              "25877     58.3.164.178      True  \n",
              "25878  118.210.235.250      True  \n",
              "25879    112.172.97.50     False  \n",
              "25880    174.226.65.20     False  \n",
              "25881     56.182.53.24     False  \n",
              "\n",
              "[25882 rows x 15 columns]"
            ],
            "text/html": [
              "\n",
              "  <div id=\"df-e3ef2a1f-1a9c-4894-9775-6e5584531b29\">\n",
              "    <div class=\"colab-df-container\">\n",
              "      <div>\n",
              "<style scoped>\n",
              "    .dataframe tbody tr th:only-of-type {\n",
              "        vertical-align: middle;\n",
              "    }\n",
              "\n",
              "    .dataframe tbody tr th {\n",
              "        vertical-align: top;\n",
              "    }\n",
              "\n",
              "    .dataframe thead th {\n",
              "        text-align: right;\n",
              "    }\n",
              "</style>\n",
              "<table border=\"1\" class=\"dataframe\">\n",
              "  <thead>\n",
              "    <tr style=\"text-align: right;\">\n",
              "      <th></th>\n",
              "      <th>order_date</th>\n",
              "      <th>pages_visited</th>\n",
              "      <th>order_id</th>\n",
              "      <th>customer_id</th>\n",
              "      <th>tshirt_category</th>\n",
              "      <th>tshirt_price</th>\n",
              "      <th>tshirt_quantity</th>\n",
              "      <th>tshirt_type</th>\n",
              "      <th>tshirt_colour</th>\n",
              "      <th>tshirt_size</th>\n",
              "      <th>gender</th>\n",
              "      <th>birthdate</th>\n",
              "      <th>user_agent</th>\n",
              "      <th>ip_address</th>\n",
              "      <th>campaign</th>\n",
              "    </tr>\n",
              "  </thead>\n",
              "  <tbody>\n",
              "    <tr>\n",
              "      <th>0</th>\n",
              "      <td>2016-09-04</td>\n",
              "      <td>9</td>\n",
              "      <td>HTS-038040-0002</td>\n",
              "      <td>038040</td>\n",
              "      <td>T-Shirt Wh M</td>\n",
              "      <td>20.0</td>\n",
              "      <td>1</td>\n",
              "      <td>T-Shirt</td>\n",
              "      <td>Wh</td>\n",
              "      <td>M</td>\n",
              "      <td>F</td>\n",
              "      <td>1946/12/21</td>\n",
              "      <td>Mozilla/5.0 (Windows NT 10.0; WOW64) AppleWebK...</td>\n",
              "      <td>67.74.254.174</td>\n",
              "      <td>False</td>\n",
              "    </tr>\n",
              "    <tr>\n",
              "      <th>1</th>\n",
              "      <td>2014-06-04</td>\n",
              "      <td>13</td>\n",
              "      <td>HTS-038040-0001</td>\n",
              "      <td>038040</td>\n",
              "      <td>T-Shirt Wh F</td>\n",
              "      <td>18.0</td>\n",
              "      <td>1</td>\n",
              "      <td>T-Shirt</td>\n",
              "      <td>Wh</td>\n",
              "      <td>F</td>\n",
              "      <td>F</td>\n",
              "      <td>1946/12/21</td>\n",
              "      <td>Mozilla/5.0 (Windows NT 10.0; WOW64) AppleWebK...</td>\n",
              "      <td>67.74.254.174</td>\n",
              "      <td>False</td>\n",
              "    </tr>\n",
              "    <tr>\n",
              "      <th>2</th>\n",
              "      <td>2014-11-14</td>\n",
              "      <td>11</td>\n",
              "      <td>HTS-801797-0001</td>\n",
              "      <td>801797</td>\n",
              "      <td>T-Shirt Wh M</td>\n",
              "      <td>20.0</td>\n",
              "      <td>1</td>\n",
              "      <td>T-Shirt</td>\n",
              "      <td>Wh</td>\n",
              "      <td>M</td>\n",
              "      <td>M</td>\n",
              "      <td>1956/7/19</td>\n",
              "      <td>Mozilla/5.0 (Windows NT 10.0; Win64; x64) Appl...</td>\n",
              "      <td>137.155.219.158</td>\n",
              "      <td>False</td>\n",
              "    </tr>\n",
              "    <tr>\n",
              "      <th>3</th>\n",
              "      <td>2015-10-22</td>\n",
              "      <td>12</td>\n",
              "      <td>HTS-801797-0002</td>\n",
              "      <td>801797</td>\n",
              "      <td>T-Shirt Wh M</td>\n",
              "      <td>20.0</td>\n",
              "      <td>2</td>\n",
              "      <td>T-Shirt</td>\n",
              "      <td>Wh</td>\n",
              "      <td>M</td>\n",
              "      <td>M</td>\n",
              "      <td>1956/7/19</td>\n",
              "      <td>Mozilla/5.0 (Windows NT 10.0; Win64; x64) Appl...</td>\n",
              "      <td>137.155.219.158</td>\n",
              "      <td>False</td>\n",
              "    </tr>\n",
              "    <tr>\n",
              "      <th>4</th>\n",
              "      <td>2017-02-26</td>\n",
              "      <td>10</td>\n",
              "      <td>HTS-vft1eu-0003</td>\n",
              "      <td>vft1eu</td>\n",
              "      <td>T-Shirt Wh F</td>\n",
              "      <td>18.0</td>\n",
              "      <td>3</td>\n",
              "      <td>T-Shirt</td>\n",
              "      <td>Wh</td>\n",
              "      <td>F</td>\n",
              "      <td>F</td>\n",
              "      <td>1969/6/27</td>\n",
              "      <td>Mozilla/5.0 (Macintosh; Intel Mac OS X 10_12_3...</td>\n",
              "      <td>53.115.6.106</td>\n",
              "      <td>True</td>\n",
              "    </tr>\n",
              "    <tr>\n",
              "      <th>...</th>\n",
              "      <td>...</td>\n",
              "      <td>...</td>\n",
              "      <td>...</td>\n",
              "      <td>...</td>\n",
              "      <td>...</td>\n",
              "      <td>...</td>\n",
              "      <td>...</td>\n",
              "      <td>...</td>\n",
              "      <td>...</td>\n",
              "      <td>...</td>\n",
              "      <td>...</td>\n",
              "      <td>...</td>\n",
              "      <td>...</td>\n",
              "      <td>...</td>\n",
              "      <td>...</td>\n",
              "    </tr>\n",
              "    <tr>\n",
              "      <th>25877</th>\n",
              "      <td>2016-11-02</td>\n",
              "      <td>11</td>\n",
              "      <td>HTS-762534-0001</td>\n",
              "      <td>762534</td>\n",
              "      <td>Hoodie</td>\n",
              "      <td>23.0</td>\n",
              "      <td>1</td>\n",
              "      <td>Hoodie</td>\n",
              "      <td>None</td>\n",
              "      <td>None</td>\n",
              "      <td>M</td>\n",
              "      <td>1963/8/24</td>\n",
              "      <td>Mozilla/5.0 (Windows NT 10.0; WOW64) AppleWebK...</td>\n",
              "      <td>58.3.164.178</td>\n",
              "      <td>True</td>\n",
              "    </tr>\n",
              "    <tr>\n",
              "      <th>25878</th>\n",
              "      <td>2016-11-16</td>\n",
              "      <td>4</td>\n",
              "      <td>HTS-hrpv38-0001</td>\n",
              "      <td>hrpv38</td>\n",
              "      <td>T-Shirt Wh M</td>\n",
              "      <td>20.0</td>\n",
              "      <td>3</td>\n",
              "      <td>T-Shirt</td>\n",
              "      <td>Wh</td>\n",
              "      <td>M</td>\n",
              "      <td>F</td>\n",
              "      <td>1951/8/15</td>\n",
              "      <td>Mozilla/5.0 (Windows NT 6.1; WOW64) AppleWebKi...</td>\n",
              "      <td>118.210.235.250</td>\n",
              "      <td>True</td>\n",
              "    </tr>\n",
              "    <tr>\n",
              "      <th>25879</th>\n",
              "      <td>2014-07-12</td>\n",
              "      <td>16</td>\n",
              "      <td>HTS-978569-0001</td>\n",
              "      <td>978569</td>\n",
              "      <td>Hoodie</td>\n",
              "      <td>23.0</td>\n",
              "      <td>1</td>\n",
              "      <td>Hoodie</td>\n",
              "      <td>None</td>\n",
              "      <td>None</td>\n",
              "      <td>M</td>\n",
              "      <td>1986/11/19</td>\n",
              "      <td>Mozilla/5.0 (Windows NT 10.0; WOW64) AppleWebK...</td>\n",
              "      <td>112.172.97.50</td>\n",
              "      <td>False</td>\n",
              "    </tr>\n",
              "    <tr>\n",
              "      <th>25880</th>\n",
              "      <td>2016-08-05</td>\n",
              "      <td>11</td>\n",
              "      <td>HTS-k0batl-0001</td>\n",
              "      <td>k0batl</td>\n",
              "      <td>T-Shirt Wh M</td>\n",
              "      <td>20.0</td>\n",
              "      <td>2</td>\n",
              "      <td>T-Shirt</td>\n",
              "      <td>Wh</td>\n",
              "      <td>M</td>\n",
              "      <td>M</td>\n",
              "      <td>1959/2/6</td>\n",
              "      <td>Mozilla/5.0 (Macintosh; Intel Mac OS X 10_12_3...</td>\n",
              "      <td>174.226.65.20</td>\n",
              "      <td>False</td>\n",
              "    </tr>\n",
              "    <tr>\n",
              "      <th>25881</th>\n",
              "      <td>2017-03-13</td>\n",
              "      <td>11</td>\n",
              "      <td>HTS-200121-0001</td>\n",
              "      <td>200121</td>\n",
              "      <td>Tennis_Shirt</td>\n",
              "      <td>24.0</td>\n",
              "      <td>1</td>\n",
              "      <td>Tennis_Shirt</td>\n",
              "      <td>None</td>\n",
              "      <td>None</td>\n",
              "      <td>F</td>\n",
              "      <td>1969/8/22</td>\n",
              "      <td>Mozilla/5.0 (Macintosh; Intel Mac OS X 10_12_3...</td>\n",
              "      <td>56.182.53.24</td>\n",
              "      <td>False</td>\n",
              "    </tr>\n",
              "  </tbody>\n",
              "</table>\n",
              "<p>25882 rows × 15 columns</p>\n",
              "</div>\n",
              "      <button class=\"colab-df-convert\" onclick=\"convertToInteractive('df-e3ef2a1f-1a9c-4894-9775-6e5584531b29')\"\n",
              "              title=\"Convert this dataframe to an interactive table.\"\n",
              "              style=\"display:none;\">\n",
              "        \n",
              "  <svg xmlns=\"http://www.w3.org/2000/svg\" height=\"24px\"viewBox=\"0 0 24 24\"\n",
              "       width=\"24px\">\n",
              "    <path d=\"M0 0h24v24H0V0z\" fill=\"none\"/>\n",
              "    <path d=\"M18.56 5.44l.94 2.06.94-2.06 2.06-.94-2.06-.94-.94-2.06-.94 2.06-2.06.94zm-11 1L8.5 8.5l.94-2.06 2.06-.94-2.06-.94L8.5 2.5l-.94 2.06-2.06.94zm10 10l.94 2.06.94-2.06 2.06-.94-2.06-.94-.94-2.06-.94 2.06-2.06.94z\"/><path d=\"M17.41 7.96l-1.37-1.37c-.4-.4-.92-.59-1.43-.59-.52 0-1.04.2-1.43.59L10.3 9.45l-7.72 7.72c-.78.78-.78 2.05 0 2.83L4 21.41c.39.39.9.59 1.41.59.51 0 1.02-.2 1.41-.59l7.78-7.78 2.81-2.81c.8-.78.8-2.07 0-2.86zM5.41 20L4 18.59l7.72-7.72 1.47 1.35L5.41 20z\"/>\n",
              "  </svg>\n",
              "      </button>\n",
              "      \n",
              "  <style>\n",
              "    .colab-df-container {\n",
              "      display:flex;\n",
              "      flex-wrap:wrap;\n",
              "      gap: 12px;\n",
              "    }\n",
              "\n",
              "    .colab-df-convert {\n",
              "      background-color: #E8F0FE;\n",
              "      border: none;\n",
              "      border-radius: 50%;\n",
              "      cursor: pointer;\n",
              "      display: none;\n",
              "      fill: #1967D2;\n",
              "      height: 32px;\n",
              "      padding: 0 0 0 0;\n",
              "      width: 32px;\n",
              "    }\n",
              "\n",
              "    .colab-df-convert:hover {\n",
              "      background-color: #E2EBFA;\n",
              "      box-shadow: 0px 1px 2px rgba(60, 64, 67, 0.3), 0px 1px 3px 1px rgba(60, 64, 67, 0.15);\n",
              "      fill: #174EA6;\n",
              "    }\n",
              "\n",
              "    [theme=dark] .colab-df-convert {\n",
              "      background-color: #3B4455;\n",
              "      fill: #D2E3FC;\n",
              "    }\n",
              "\n",
              "    [theme=dark] .colab-df-convert:hover {\n",
              "      background-color: #434B5C;\n",
              "      box-shadow: 0px 1px 3px 1px rgba(0, 0, 0, 0.15);\n",
              "      filter: drop-shadow(0px 1px 2px rgba(0, 0, 0, 0.3));\n",
              "      fill: #FFFFFF;\n",
              "    }\n",
              "  </style>\n",
              "\n",
              "      <script>\n",
              "        const buttonEl =\n",
              "          document.querySelector('#df-e3ef2a1f-1a9c-4894-9775-6e5584531b29 button.colab-df-convert');\n",
              "        buttonEl.style.display =\n",
              "          google.colab.kernel.accessAllowed ? 'block' : 'none';\n",
              "\n",
              "        async function convertToInteractive(key) {\n",
              "          const element = document.querySelector('#df-e3ef2a1f-1a9c-4894-9775-6e5584531b29');\n",
              "          const dataTable =\n",
              "            await google.colab.kernel.invokeFunction('convertToInteractive',\n",
              "                                                     [key], {});\n",
              "          if (!dataTable) return;\n",
              "\n",
              "          const docLinkHtml = 'Like what you see? Visit the ' +\n",
              "            '<a target=\"_blank\" href=https://colab.research.google.com/notebooks/data_table.ipynb>data table notebook</a>'\n",
              "            + ' to learn more about interactive tables.';\n",
              "          element.innerHTML = '';\n",
              "          dataTable['output_type'] = 'display_data';\n",
              "          await google.colab.output.renderOutput(dataTable, element);\n",
              "          const docLink = document.createElement('div');\n",
              "          docLink.innerHTML = docLinkHtml;\n",
              "          element.appendChild(docLink);\n",
              "        }\n",
              "      </script>\n",
              "    </div>\n",
              "  </div>\n",
              "  "
            ]
          },
          "metadata": {},
          "execution_count": 153
        }
      ]
    },
    {
      "cell_type": "code",
      "source": [
        "merged.head"
      ],
      "metadata": {
        "colab": {
          "base_uri": "https://localhost:8080/"
        },
        "id": "wNVtaLNuItkI",
        "outputId": "aefc5aab-2680-412d-8628-c6cfddc1dd7d"
      },
      "execution_count": 154,
      "outputs": [
        {
          "output_type": "execute_result",
          "data": {
            "text/plain": [
              "<bound method NDFrame.head of       order_date  pages_visited         order_id customer_id tshirt_category  \\\n",
              "0     2016-09-04              9  HTS-038040-0002      038040    T-Shirt Wh M   \n",
              "1     2014-06-04             13  HTS-038040-0001      038040    T-Shirt Wh F   \n",
              "2     2014-11-14             11  HTS-801797-0001      801797    T-Shirt Wh M   \n",
              "3     2015-10-22             12  HTS-801797-0002      801797    T-Shirt Wh M   \n",
              "4     2017-02-26             10  HTS-vft1eu-0003      vft1eu    T-Shirt Wh F   \n",
              "...          ...            ...              ...         ...             ...   \n",
              "25877 2016-11-02             11  HTS-762534-0001      762534          Hoodie   \n",
              "25878 2016-11-16              4  HTS-hrpv38-0001      hrpv38    T-Shirt Wh M   \n",
              "25879 2014-07-12             16  HTS-978569-0001      978569          Hoodie   \n",
              "25880 2016-08-05             11  HTS-k0batl-0001      k0batl    T-Shirt Wh M   \n",
              "25881 2017-03-13             11  HTS-200121-0001      200121    Tennis_Shirt   \n",
              "\n",
              "       tshirt_price  tshirt_quantity   tshirt_type tshirt_colour tshirt_size  \\\n",
              "0              20.0                1       T-Shirt            Wh           M   \n",
              "1              18.0                1       T-Shirt            Wh           F   \n",
              "2              20.0                1       T-Shirt            Wh           M   \n",
              "3              20.0                2       T-Shirt            Wh           M   \n",
              "4              18.0                3       T-Shirt            Wh           F   \n",
              "...             ...              ...           ...           ...         ...   \n",
              "25877          23.0                1        Hoodie          None        None   \n",
              "25878          20.0                3       T-Shirt            Wh           M   \n",
              "25879          23.0                1        Hoodie          None        None   \n",
              "25880          20.0                2       T-Shirt            Wh           M   \n",
              "25881          24.0                1  Tennis_Shirt          None        None   \n",
              "\n",
              "      gender   birthdate                                         user_agent  \\\n",
              "0          F  1946/12/21  Mozilla/5.0 (Windows NT 10.0; WOW64) AppleWebK...   \n",
              "1          F  1946/12/21  Mozilla/5.0 (Windows NT 10.0; WOW64) AppleWebK...   \n",
              "2          M   1956/7/19  Mozilla/5.0 (Windows NT 10.0; Win64; x64) Appl...   \n",
              "3          M   1956/7/19  Mozilla/5.0 (Windows NT 10.0; Win64; x64) Appl...   \n",
              "4          F   1969/6/27  Mozilla/5.0 (Macintosh; Intel Mac OS X 10_12_3...   \n",
              "...      ...         ...                                                ...   \n",
              "25877      M   1963/8/24  Mozilla/5.0 (Windows NT 10.0; WOW64) AppleWebK...   \n",
              "25878      F   1951/8/15  Mozilla/5.0 (Windows NT 6.1; WOW64) AppleWebKi...   \n",
              "25879      M  1986/11/19  Mozilla/5.0 (Windows NT 10.0; WOW64) AppleWebK...   \n",
              "25880      M    1959/2/6  Mozilla/5.0 (Macintosh; Intel Mac OS X 10_12_3...   \n",
              "25881      F   1969/8/22  Mozilla/5.0 (Macintosh; Intel Mac OS X 10_12_3...   \n",
              "\n",
              "            ip_address  campaign  \n",
              "0        67.74.254.174     False  \n",
              "1        67.74.254.174     False  \n",
              "2      137.155.219.158     False  \n",
              "3      137.155.219.158     False  \n",
              "4         53.115.6.106      True  \n",
              "...                ...       ...  \n",
              "25877     58.3.164.178      True  \n",
              "25878  118.210.235.250      True  \n",
              "25879    112.172.97.50     False  \n",
              "25880    174.226.65.20     False  \n",
              "25881     56.182.53.24     False  \n",
              "\n",
              "[25882 rows x 15 columns]>"
            ]
          },
          "metadata": {},
          "execution_count": 154
        }
      ]
    },
    {
      "cell_type": "markdown",
      "source": [
        "Zadanie 3 (1 pkt)\n",
        "\n",
        "Nową ramkę (połączenie orders i customers) zapisz do pliku csv, ale zapisz bez kolumny z indeksem.\n"
      ],
      "metadata": {
        "id": "bCKqMqJQtR8s"
      }
    },
    {
      "cell_type": "code",
      "source": [
        "merged.to_csv(\"merged.csv\",index=False)"
      ],
      "metadata": {
        "id": "J2gA9RVStSTa"
      },
      "execution_count": 155,
      "outputs": []
    },
    {
      "cell_type": "code",
      "source": [
        "test=pd.read_csv(\"merged.csv\")"
      ],
      "metadata": {
        "id": "u18QBW1DJE8S"
      },
      "execution_count": 156,
      "outputs": []
    },
    {
      "cell_type": "code",
      "source": [
        "test.head"
      ],
      "metadata": {
        "colab": {
          "base_uri": "https://localhost:8080/"
        },
        "id": "x6IsV7Z4JIx_",
        "outputId": "fb4d0d0d-5710-4d71-ab09-401a406cfed3"
      },
      "execution_count": 157,
      "outputs": [
        {
          "output_type": "execute_result",
          "data": {
            "text/plain": [
              "<bound method NDFrame.head of        order_date  pages_visited         order_id customer_id tshirt_category  \\\n",
              "0      2016-09-04              9  HTS-038040-0002      038040    T-Shirt Wh M   \n",
              "1      2014-06-04             13  HTS-038040-0001      038040    T-Shirt Wh F   \n",
              "2      2014-11-14             11  HTS-801797-0001      801797    T-Shirt Wh M   \n",
              "3      2015-10-22             12  HTS-801797-0002      801797    T-Shirt Wh M   \n",
              "4      2017-02-26             10  HTS-vft1eu-0003      vft1eu    T-Shirt Wh F   \n",
              "...           ...            ...              ...         ...             ...   \n",
              "25877  2016-11-02             11  HTS-762534-0001      762534          Hoodie   \n",
              "25878  2016-11-16              4  HTS-hrpv38-0001      hrpv38    T-Shirt Wh M   \n",
              "25879  2014-07-12             16  HTS-978569-0001      978569          Hoodie   \n",
              "25880  2016-08-05             11  HTS-k0batl-0001      k0batl    T-Shirt Wh M   \n",
              "25881  2017-03-13             11  HTS-200121-0001      200121    Tennis_Shirt   \n",
              "\n",
              "       tshirt_price  tshirt_quantity   tshirt_type tshirt_colour tshirt_size  \\\n",
              "0              20.0                1       T-Shirt            Wh           M   \n",
              "1              18.0                1       T-Shirt            Wh           F   \n",
              "2              20.0                1       T-Shirt            Wh           M   \n",
              "3              20.0                2       T-Shirt            Wh           M   \n",
              "4              18.0                3       T-Shirt            Wh           F   \n",
              "...             ...              ...           ...           ...         ...   \n",
              "25877          23.0                1        Hoodie           NaN         NaN   \n",
              "25878          20.0                3       T-Shirt            Wh           M   \n",
              "25879          23.0                1        Hoodie           NaN         NaN   \n",
              "25880          20.0                2       T-Shirt            Wh           M   \n",
              "25881          24.0                1  Tennis_Shirt           NaN         NaN   \n",
              "\n",
              "      gender   birthdate                                         user_agent  \\\n",
              "0          F  1946/12/21  Mozilla/5.0 (Windows NT 10.0; WOW64) AppleWebK...   \n",
              "1          F  1946/12/21  Mozilla/5.0 (Windows NT 10.0; WOW64) AppleWebK...   \n",
              "2          M   1956/7/19  Mozilla/5.0 (Windows NT 10.0; Win64; x64) Appl...   \n",
              "3          M   1956/7/19  Mozilla/5.0 (Windows NT 10.0; Win64; x64) Appl...   \n",
              "4          F   1969/6/27  Mozilla/5.0 (Macintosh; Intel Mac OS X 10_12_3...   \n",
              "...      ...         ...                                                ...   \n",
              "25877      M   1963/8/24  Mozilla/5.0 (Windows NT 10.0; WOW64) AppleWebK...   \n",
              "25878      F   1951/8/15  Mozilla/5.0 (Windows NT 6.1; WOW64) AppleWebKi...   \n",
              "25879      M  1986/11/19  Mozilla/5.0 (Windows NT 10.0; WOW64) AppleWebK...   \n",
              "25880      M    1959/2/6  Mozilla/5.0 (Macintosh; Intel Mac OS X 10_12_3...   \n",
              "25881      F   1969/8/22  Mozilla/5.0 (Macintosh; Intel Mac OS X 10_12_3...   \n",
              "\n",
              "            ip_address  campaign  \n",
              "0        67.74.254.174     False  \n",
              "1        67.74.254.174     False  \n",
              "2      137.155.219.158     False  \n",
              "3      137.155.219.158     False  \n",
              "4         53.115.6.106      True  \n",
              "...                ...       ...  \n",
              "25877     58.3.164.178      True  \n",
              "25878  118.210.235.250      True  \n",
              "25879    112.172.97.50     False  \n",
              "25880    174.226.65.20     False  \n",
              "25881     56.182.53.24     False  \n",
              "\n",
              "[25882 rows x 15 columns]>"
            ]
          },
          "metadata": {},
          "execution_count": 157
        }
      ]
    }
  ]
}